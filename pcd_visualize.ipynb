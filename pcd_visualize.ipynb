{
 "cells": [
  {
   "cell_type": "code",
   "execution_count": 8,
   "metadata": {},
   "outputs": [],
   "source": [
    "import numpy as np\n",
    "\n",
    "range96_file ='./221017 Sony POC 파주 Amber 실내 측정 Range 96 모드/static/record.0 10초 찍음/20221017135014_t01665982215021000000.bin' \n",
    "hist_file ='./221017 Sony POC 파주 Amber 실내 측정 histogram 모드/static/record.0 10초 동안 찍음/20221017140820_t01665983300117000000.bin' \n",
    "with open(hist_file, 'rb') as f:\n",
    "    #data = np.fromfile(f, dtype=np.float32)\n",
    "    data = f.read()"
   ]
  },
  {
   "cell_type": "code",
   "execution_count": 10,
   "metadata": {},
   "outputs": [
    {
     "name": "stdout",
     "output_type": "stream",
     "text": [
      "0\n",
      "8\n",
      "40\n"
     ]
    }
   ],
   "source": [
    "print(data[0])\n",
    "print(data[1])\n",
    "print(data[2])"
   ]
  },
  {
   "cell_type": "code",
   "execution_count": 13,
   "metadata": {},
   "outputs": [
    {
     "ename": "AttributeError",
     "evalue": "'_io.BufferedReader' object has no attribute 'split'",
     "output_type": "error",
     "traceback": [
      "\u001b[1;31m---------------------------------------------------------------------------\u001b[0m",
      "\u001b[1;31mAttributeError\u001b[0m                            Traceback (most recent call last)",
      "\u001b[1;32mc:\\Users\\user\\OneDrive - LG Innotek Co., Ltd\\문서\\Python Scripts\\pcd_visualize.ipynb Cell 3\u001b[0m in \u001b[0;36m<cell line: 1>\u001b[1;34m()\u001b[0m\n\u001b[0;32m      <a href='vscode-notebook-cell:/c%3A/Users/user/OneDrive%20-%20LG%20Innotek%20Co.%2C%20Ltd/%EB%AC%B8%EC%84%9C/Python%20Scripts/pcd_visualize.ipynb#W2sZmlsZQ%3D%3D?line=0'>1</a>\u001b[0m \u001b[39mwith\u001b[39;00m \u001b[39mopen\u001b[39m(hist_file, \u001b[39m'\u001b[39m\u001b[39mrb\u001b[39m\u001b[39m'\u001b[39m) \u001b[39mas\u001b[39;00m f: \n\u001b[1;32m----> <a href='vscode-notebook-cell:/c%3A/Users/user/OneDrive%20-%20LG%20Innotek%20Co.%2C%20Ltd/%EB%AC%B8%EC%84%9C/Python%20Scripts/pcd_visualize.ipynb#W2sZmlsZQ%3D%3D?line=1'>2</a>\u001b[0m     hex_data \u001b[39m=\u001b[39m [\u001b[39m\"\u001b[39m\u001b[39m0x\u001b[39m\u001b[39m\"\u001b[39m \u001b[39m+\u001b[39m hh \u001b[39mfor\u001b[39;00m hh \u001b[39min\u001b[39;00m f\u001b[39m.\u001b[39;49msplit()]\n",
      "\u001b[1;31mAttributeError\u001b[0m: '_io.BufferedReader' object has no attribute 'split'"
     ]
    }
   ],
   "source": [
    "content = open(hist_file, \"rb\")\n",
    "byte = content.read(1)\n",
    "hexadecimal = binascii.hexlify(byte)\n",
    "self.file_content.setText(hexadecimal)"
   ]
  },
  {
   "cell_type": "code",
   "execution_count": null,
   "metadata": {},
   "outputs": [],
   "source": []
  }
 ],
 "metadata": {
  "kernelspec": {
   "display_name": "Python 3.10.4 64-bit",
   "language": "python",
   "name": "python3"
  },
  "language_info": {
   "codemirror_mode": {
    "name": "ipython",
    "version": 3
   },
   "file_extension": ".py",
   "mimetype": "text/x-python",
   "name": "python",
   "nbconvert_exporter": "python",
   "pygments_lexer": "ipython3",
   "version": "3.10.4"
  },
  "orig_nbformat": 4,
  "vscode": {
   "interpreter": {
    "hash": "fb4569285eef3a3450cb62085a5b1e0da4bce0af555edc33dcf29baf3acc1368"
   }
  }
 },
 "nbformat": 4,
 "nbformat_minor": 2
}
