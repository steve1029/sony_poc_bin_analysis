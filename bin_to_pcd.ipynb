{
 "cells": [
  {
   "cell_type": "code",
   "execution_count": 2,
   "metadata": {},
   "outputs": [
    {
     "ename": "TypeError",
     "evalue": "unsupported operand type(s) for *: 'NoneType' and 'float'",
     "output_type": "error",
     "traceback": [
      "\u001b[1;31m---------------------------------------------------------------------------\u001b[0m",
      "\u001b[1;31mTypeError\u001b[0m                                 Traceback (most recent call last)",
      "\u001b[1;32mc:\\Users\\user\\OneDrive - LG Innotek Co., Ltd\\문서\\Python Scripts\\bin_to_pcd.ipynb Cell 1\u001b[0m in \u001b[0;36m<cell line: 15>\u001b[1;34m()\u001b[0m\n\u001b[0;32m     <a href='vscode-notebook-cell:/c%3A/Users/user/OneDrive%20-%20LG%20Innotek%20Co.%2C%20Ltd/%EB%AC%B8%EC%84%9C/Python%20Scripts/bin_to_pcd.ipynb#W0sZmlsZQ%3D%3D?line=11'>12</a>\u001b[0m \u001b[39m#im = imageio.imread(loc)\u001b[39;00m\n\u001b[0;32m     <a href='vscode-notebook-cell:/c%3A/Users/user/OneDrive%20-%20LG%20Innotek%20Co.%2C%20Ltd/%EB%AC%B8%EC%84%9C/Python%20Scripts/bin_to_pcd.ipynb#W0sZmlsZQ%3D%3D?line=13'>14</a>\u001b[0m btd \u001b[39m=\u001b[39m c \u001b[39m*\u001b[39m \u001b[39m1e-9\u001b[39m \u001b[39m*\u001b[39m \u001b[39m.5\u001b[39m \u001b[39m# bin to distance. TDC counts signal per 1 ns.\u001b[39;00m\n\u001b[1;32m---> <a href='vscode-notebook-cell:/c%3A/Users/user/OneDrive%20-%20LG%20Innotek%20Co.%2C%20Ltd/%EB%AC%B8%EC%84%9C/Python%20Scripts/bin_to_pcd.ipynb#W0sZmlsZQ%3D%3D?line=14'>15</a>\u001b[0m imd \u001b[39m=\u001b[39m im \u001b[39m*\u001b[39;49m btd\n",
      "\u001b[1;31mTypeError\u001b[0m: unsupported operand type(s) for *: 'NoneType' and 'float'"
     ]
    }
   ],
   "source": [
    "import cv2, imageio\n",
    "import matplotlib.pyplot as plt\n",
    "from scipy.constants import c\n",
    "import numpy as np\n",
    "import open3d as o3d\n",
    "\n",
    "\"\"\"Produce pcd data from the 16-bit png file which is extracted\n",
    " from the bin file by Sony POC.\n",
    "\"\"\"\n",
    "loc = 'C:/Users/user/Downloads/TestIMX459/_out/result/Depth_raw.png'\n",
    "im = cv2.imread(loc, cv2.IMREAD_UNCHANGED)\n",
    "#im = imageio.imread(loc)\n",
    "\n",
    "btd = c * 1e-9 * .5 # bin to distance. TDC counts signal per 1 ns.\n",
    "imd = im * btd"
   ]
  },
  {
   "cell_type": "code",
   "execution_count": 9,
   "metadata": {},
   "outputs": [
    {
     "name": "stdout",
     "output_type": "stream",
     "text": [
      "[Open3D WARNING] GLFW Error: WGL: Failed to make context current: 핸들이 잘못되었습니다. \n"
     ]
    }
   ],
   "source": [
    "vertices = []\n",
    "for x in range(im.shape[0]):\n",
    "    for y in range(im.shape[1]):\n",
    "        vertices.append((float(x), float(y), im[x,y]))\n",
    "\n",
    "# Create a point Cloud instance.\n",
    "pcd = o3d.geometry.PointCloud()\n",
    "point_cloud = np.array(vertices)\n",
    "\n",
    "# Convert float64 numpy array of shape (n,3) to Open3D format.\n",
    "pcd.points = o3d.utility.Vector3dVector(point_cloud) \n",
    "\n",
    "pcd.estimate_normals()\n",
    "pcd = pcd.normalize_normals()\n",
    "o3d.visualization.draw_geometries([pcd])"
   ]
  },
  {
   "cell_type": "code",
   "execution_count": null,
   "metadata": {},
   "outputs": [],
   "source": []
  }
 ],
 "metadata": {
  "kernelspec": {
   "display_name": "Python 3.10.4 64-bit",
   "language": "python",
   "name": "python3"
  },
  "language_info": {
   "codemirror_mode": {
    "name": "ipython",
    "version": 3
   },
   "file_extension": ".py",
   "mimetype": "text/x-python",
   "name": "python",
   "nbconvert_exporter": "python",
   "pygments_lexer": "ipython3",
   "version": "3.10.4"
  },
  "orig_nbformat": 4,
  "vscode": {
   "interpreter": {
    "hash": "fb4569285eef3a3450cb62085a5b1e0da4bce0af555edc33dcf29baf3acc1368"
   }
  }
 },
 "nbformat": 4,
 "nbformat_minor": 2
}
